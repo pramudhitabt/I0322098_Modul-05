{
 "cells": [
  {
   "attachments": {},
   "cell_type": "markdown",
   "metadata": {},
   "source": [
    "1. Buatlah program untuk menghitung pangkat 2 dari angka 1 hingga 50!"
   ]
  },
  {
   "cell_type": "code",
   "execution_count": 2,
   "metadata": {},
   "outputs": [
    {
     "name": "stdout",
     "output_type": "stream",
     "text": [
      "Pangkat 2 dari 1 adalah 1\n",
      "Pangkat 2 dari 2 adalah 4\n",
      "Pangkat 2 dari 3 adalah 9\n",
      "Pangkat 2 dari 4 adalah 16\n",
      "Pangkat 2 dari 5 adalah 25\n",
      "Pangkat 2 dari 6 adalah 36\n",
      "Pangkat 2 dari 7 adalah 49\n",
      "Pangkat 2 dari 8 adalah 64\n",
      "Pangkat 2 dari 9 adalah 81\n",
      "Pangkat 2 dari 10 adalah 100\n",
      "Pangkat 2 dari 11 adalah 121\n",
      "Pangkat 2 dari 12 adalah 144\n",
      "Pangkat 2 dari 13 adalah 169\n",
      "Pangkat 2 dari 14 adalah 196\n",
      "Pangkat 2 dari 15 adalah 225\n",
      "Pangkat 2 dari 16 adalah 256\n",
      "Pangkat 2 dari 17 adalah 289\n",
      "Pangkat 2 dari 18 adalah 324\n",
      "Pangkat 2 dari 19 adalah 361\n",
      "Pangkat 2 dari 20 adalah 400\n",
      "Pangkat 2 dari 21 adalah 441\n",
      "Pangkat 2 dari 22 adalah 484\n",
      "Pangkat 2 dari 23 adalah 529\n",
      "Pangkat 2 dari 24 adalah 576\n",
      "Pangkat 2 dari 25 adalah 625\n",
      "Pangkat 2 dari 26 adalah 676\n",
      "Pangkat 2 dari 27 adalah 729\n",
      "Pangkat 2 dari 28 adalah 784\n",
      "Pangkat 2 dari 29 adalah 841\n",
      "Pangkat 2 dari 30 adalah 900\n",
      "Pangkat 2 dari 31 adalah 961\n",
      "Pangkat 2 dari 32 adalah 1024\n",
      "Pangkat 2 dari 33 adalah 1089\n",
      "Pangkat 2 dari 34 adalah 1156\n",
      "Pangkat 2 dari 35 adalah 1225\n",
      "Pangkat 2 dari 36 adalah 1296\n",
      "Pangkat 2 dari 37 adalah 1369\n",
      "Pangkat 2 dari 38 adalah 1444\n",
      "Pangkat 2 dari 39 adalah 1521\n",
      "Pangkat 2 dari 40 adalah 1600\n",
      "Pangkat 2 dari 41 adalah 1681\n",
      "Pangkat 2 dari 42 adalah 1764\n",
      "Pangkat 2 dari 43 adalah 1849\n",
      "Pangkat 2 dari 44 adalah 1936\n",
      "Pangkat 2 dari 45 adalah 2025\n",
      "Pangkat 2 dari 46 adalah 2116\n",
      "Pangkat 2 dari 47 adalah 2209\n",
      "Pangkat 2 dari 48 adalah 2304\n",
      "Pangkat 2 dari 49 adalah 2401\n",
      "Pangkat 2 dari 50 adalah 2500\n"
     ]
    }
   ],
   "source": [
    "# Kerjakan nomor 1 di sini\n",
    "\n",
    "for i in range (1,51):\n",
    "    print(f\"Pangkat 2 dari {i} adalah {i**2}\")"
   ]
  },
  {
   "attachments": {},
   "cell_type": "markdown",
   "metadata": {},
   "source": [
    "2. Buatlah sebuah list yang berisi daftar nama mahasiswa angkatan kalian minimal sejumlah 10 nama. Kemudian buat program pencarian menggunakan pengulangan, di mana apabila nama yang user inputkan sudah sesuai dengan isi list maka program akan berhenti dan menampilkan output \"Pencarian anda sudah berakhir\""
   ]
  },
  {
   "attachments": {},
   "cell_type": "markdown",
   "metadata": {},
   "source": [
    "catatan: perhatikan user dapat menginputkan menggunakan baik huruf kapital maupun tidak"
   ]
  },
  {
   "cell_type": "code",
   "execution_count": 19,
   "metadata": {},
   "outputs": [
    {
     "name": "stdout",
     "output_type": "stream",
     "text": [
      "Mahasiswa atas nama Hanif ada dalam daftar.\n",
      "Mahasiswa atas nama jono tidak ada dalam daftar.\n",
      "Mahasiswa atas nama  tidak ada dalam daftar.\n",
      "Pencarian Anda sudah berakhir.\n"
     ]
    }
   ],
   "source": [
    "# Kerjakan nomor 2 di sini\n",
    "\n",
    "namamahasiswa = ['Ilham','Dafa','Hanif','Raisa','Novita','Julie','Fahriza','Yusuf','Mutiara','Rafli']\n",
    "\n",
    "while True:\n",
    "    pencarian = input(\"Masukkan nama mahasiswa yang Anda cari: \")\n",
    "    for i in namamahasiswa:\n",
    "        if pencarian.lower() == i.lower():\n",
    "            print(\"Mahasiswa atas nama \" + pencarian + \" ada dalam daftar.\")\n",
    "            break\n",
    "\n",
    "    else:\n",
    "        print(\"Mahasiswa atas nama \" + pencarian + \" tidak ada dalam daftar.\")\n",
    "        pengulangan = input(\"Apakah Anda akan melakukan pencarian nama mahasiswa lagi? (y/t): \")\n",
    "        if pengulangan.lower() == \"t\":\n",
    "            print(\"Pencarian Anda sudah berakhir.\")\n",
    "            break\n"
   ]
  },
  {
   "attachments": {},
   "cell_type": "markdown",
   "metadata": {},
   "source": [
    "3. Disajikan list sebagai berikut "
   ]
  },
  {
   "cell_type": "code",
   "execution_count": null,
   "metadata": {},
   "outputs": [],
   "source": [
    "bulan = ['januari', 'februari', 'maret', 'april','mei','juni','juli','agustus','september','oktober','november','desember']\n",
    "kota = ['jakarta' , 'kuala lumpur', 'bangkok', 'seoul', 'canada','london','dubai','barcelona']"
   ]
  },
  {
   "attachments": {},
   "cell_type": "markdown",
   "metadata": {},
   "source": [
    "Robert adalah seorang penyanyi terkenal. Dia merencanakan konser world tour di tahun 2024 mendatang di berbagai negara. Dengan catatan pada bulan April dan Mei, Robert kembali ke indonesia untuk istirahat sejenak kemudian melanjutkan lagi konser. Berdasarkan kasus tersebut buatlah program pengulangannya!"
   ]
  },
  {
   "cell_type": "code",
   "execution_count": 19,
   "metadata": {},
   "outputs": [
    {
     "name": "stdout",
     "output_type": "stream",
     "text": [
      "Pada bulan Januari Robert mengadakan konser di Jakarta\n",
      "Pada bulan Februari Robert mengadakan konser di Kuala Lumpur\n",
      "Pada bulan Maret Robert mengadakan konser di Bangkok\n",
      "Robert kembali ke Indonesia untuk istirahat sejenak pada bulan April\n",
      "Robert kembali ke Indonesia untuk istirahat sejenak pada bulan Mei\n",
      "Pada bulan Juni Robert mengadakan konser di Seoul\n",
      "Pada bulan Juli Robert mengadakan konser di Canada\n",
      "Pada bulan Agustus Robert mengadakan konser di London\n",
      "Pada bulan September Robert mengadakan konser di Dubai\n",
      "Pada bulan Oktober Robert mengadakan konser di Barcelona\n",
      "Pada bulan November Robert mengadakan konser di Jakarta\n",
      "Pada bulan Desember Robert mengadakan konser di Kuala Lumpur\n"
     ]
    }
   ],
   "source": [
    "# kerjakan nomor 3 di sini\n",
    "\n",
    "bulan = ['Januari', 'Februari', 'Maret', 'April','Mei','Juni','Juli','Agustus','September','Oktober','November','Desember']\n",
    "kota = ['Jakarta' , 'Kuala Lumpur', 'Bangkok', 'Seoul', 'Canada','London','Dubai','Barcelona']\n",
    "\n",
    "i = 0\n",
    "for b in bulan:\n",
    "    if b in [\"April\", \"Mei\"]:\n",
    "        print(f\"Robert kembali ke Indonesia untuk istirahat sejenak pada bulan {b}\")\n",
    "        continue\n",
    "    print(f\"Pada bulan {b} Robert mengadakan konser di\", kota[i])\n",
    "    i += 1\n",
    "    if i == 8:\n",
    "         i = 0"
   ]
  }
 ],
 "metadata": {
  "kernelspec": {
   "display_name": "Python 3",
   "language": "python",
   "name": "python3"
  },
  "language_info": {
   "codemirror_mode": {
    "name": "ipython",
    "version": 3
   },
   "file_extension": ".py",
   "mimetype": "text/x-python",
   "name": "python",
   "nbconvert_exporter": "python",
   "pygments_lexer": "ipython3",
   "version": "3.10.7"
  },
  "orig_nbformat": 4
 },
 "nbformat": 4,
 "nbformat_minor": 2
}
